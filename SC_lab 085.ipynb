{
  "nbformat": 4,
  "nbformat_minor": 0,
  "metadata": {
    "colab": {
      "provenance": [],
      "collapsed_sections": [
        "rvZwopUqd4jB",
        "tPDy0rLweQe_",
        "yl199eCPfMRV",
        "B3G7AARli0xA",
        "Omnf2oUhj0vb",
        "OxsCmK30j743",
        "d5LbdosUk-Ci"
      ]
    },
    "kernelspec": {
      "name": "python3",
      "display_name": "Python 3"
    },
    "language_info": {
      "name": "python"
    }
  },
  "cells": [
    {
      "cell_type": "markdown",
      "source": [
        "#lab1 fuzzy logic"
      ],
      "metadata": {
        "id": "KkeyFXoTa-Ea"
      }
    },
    {
      "cell_type": "code",
      "source": [
        "import numpy as np\n",
        "\n",
        "# --- Fuzzy Sets ---\n",
        "A = np.array([0.3, 0.7, 1.0])  # Input fuzzy set\n",
        "B = np.array([0.6, 0.2, 0.9])  # Output fuzzy set\n",
        "\n",
        "# --- Fuzzy Relations ---\n",
        "R = np.array([  # Relation from A to Y\n",
        "    [0.2, 0.5, 0.7],\n",
        "    [0.8, 0.4, 0.6],\n",
        "    [0.9, 0.3, 0.5]\n",
        "])\n",
        "\n",
        "S = np.array([  # Relation from Y to B\n",
        "    [0.3, 0.9, 0.6],\n",
        "    [0.6, 0.7, 0.2],\n",
        "    [0.5, 0.8, 0.4]\n",
        "])\n",
        "\n",
        "# --- Max-Min Composition ---\n",
        "def max_min(R1, R2):\n",
        "    return np.array([\n",
        "        [np.max(np.minimum(R1[i], R2[:, j])) for j in range(R2.shape[1])]\n",
        "        for i in range(R1.shape[0])\n",
        "    ])\n",
        "\n",
        "# --- fuzzy Implication ---\n",
        "def fuzzy_implication(A, B):\n",
        "    return np.array([\n",
        "        [min(a, b) for b in B]\n",
        "        for a in A\n",
        "    ])\n",
        "\n",
        "# --- Fuzzy Inference (A ∘ ImplicationMatrix) ---\n",
        "def fuzzy_infer(A, rule_matrix):\n",
        "    return np.array([\n",
        "        np.max(np.minimum(A, rule_matrix[:, j]))\n",
        "        for j in range(rule_matrix.shape[1])\n",
        "    ])\n",
        "\n",
        "# --- Execution ---\n",
        "print(\"Input A:\", A)\n",
        "print(\"Output B:\", B)\n",
        "\n",
        "# 1. Max-Min Composition: R o S\n",
        "RS = max_min(R, S)\n",
        "print(\"\\nMax-Min Composition (R ∘ S):\\n\", RS)\n",
        "\n",
        "# 2. Fuzzy Implication Matrix: A => B\n",
        "imp_matrix = fuzzy_implication(A, B)\n",
        "print(\"\\nFuzzy Implication Matrix (A ⇒ B):\\n\", imp_matrix)\n",
        "\n",
        "# 3. Fuzzy Inference: A ∘ (A ⇒ B)\n",
        "inferred = fuzzy_infer(A, imp_matrix)\n",
        "print(\"\\nFuzzy Inference Result:\\n\", inferred)\n"
      ],
      "metadata": {
        "colab": {
          "base_uri": "https://localhost:8080/"
        },
        "id": "IkRh4GNpcFgU",
        "outputId": "1022ff8e-2223-47a4-b96e-512e8414d4fe"
      },
      "execution_count": null,
      "outputs": [
        {
          "output_type": "stream",
          "name": "stdout",
          "text": [
            "Input A: [0.3 0.7 1. ]\n",
            "Output B: [0.6 0.2 0.9]\n",
            "\n",
            "Max-Min Composition (R ∘ S):\n",
            " [[0.5 0.7 0.4]\n",
            " [0.5 0.8 0.6]\n",
            " [0.5 0.9 0.6]]\n",
            "\n",
            "Fuzzy Implication Matrix (A ⇒ B):\n",
            " [[0.3 0.2 0.3]\n",
            " [0.6 0.2 0.7]\n",
            " [0.6 0.2 0.9]]\n",
            "\n",
            "Fuzzy Inference Result:\n",
            " [0.6 0.2 0.9]\n"
          ]
        }
      ]
    },
    {
      "cell_type": "markdown",
      "source": [
        "#DEFUZZIFICATION AND FUZZY CONTROLLER"
      ],
      "metadata": {
        "id": "rvZwopUqd4jB"
      }
    },
    {
      "cell_type": "code",
      "source": [
        "import numpy as np\n",
        "\n",
        "# --- Defuzzification Functions ---\n",
        "\n",
        "def centroid(x, mf):\n",
        "    return np.sum(x * mf) / np.sum(mf)\n",
        "\n",
        "def mean_of_maximum(x, mf):\n",
        "    max_val = np.max(mf)\n",
        "    max_indices = np.where(mf == max_val)[0]\n",
        "    return np.mean(x[max_indices])\n",
        "\n",
        "# --- Fuzzy Controller ---\n",
        "\n",
        "def fuzzy_controller(error):\n",
        "    x = np.linspace(0, 100, 100)  # Output values (0-100%)\n",
        "\n",
        "    # Fuzzy rules based on error\n",
        "    if error < -5:\n",
        "        output_mf = np.maximum(0, 1 - (x / 50))  # Low\n",
        "    elif -5 <= error <= 5:\n",
        "        output_mf = np.maximum(0, 1 - abs(x - 50) / 25)  # Medium\n",
        "    else:\n",
        "        output_mf = np.maximum(0, (x - 50) / 50)  # High\n",
        "\n",
        "    # Defuzzification\n",
        "    center = centroid(x, output_mf)\n",
        "    mean_max = mean_of_maximum(x, output_mf)\n",
        "\n",
        "    return center, mean_max\n",
        "error = -4\n",
        "centroid_output, mean_max_output = fuzzy_controller(error)\n",
        "\n",
        "print(\"=== Fuzzy Controller Output ===\")\n",
        "print(f\"Error: {error}\")\n",
        "print(f\"Centroid Defuzzification: {centroid_output:.2f}\")\n",
        "print(f\"Mean of Maximum: {mean_max_output:.2f}\")"
      ],
      "metadata": {
        "colab": {
          "base_uri": "https://localhost:8080/"
        },
        "id": "w6kIEFi0ZBSa",
        "outputId": "7dd1c812-180b-4e70-cf03-834056b6acdc"
      },
      "execution_count": null,
      "outputs": [
        {
          "output_type": "stream",
          "name": "stdout",
          "text": [
            "=== Fuzzy Controller Output ===\n",
            "Error: -4\n",
            "Centroid Defuzzification: 50.00\n",
            "Mean of Maximum: 50.00\n"
          ]
        }
      ]
    },
    {
      "cell_type": "markdown",
      "source": [
        "#GENETIC ALGORITHM"
      ],
      "metadata": {
        "id": "tPDy0rLweQe_"
      }
    },
    {
      "cell_type": "code",
      "source": [
        "import random\n",
        "\n",
        "POP_SIZE = 6\n",
        "GENES = 5\n",
        "GENERATIONS = 10\n",
        "\n",
        "def fitness(ind):\n",
        "    x = int(ind, 2)\n",
        "    return x * x\n",
        "\n",
        "def select(pop):\n",
        "    return sorted(pop, key=fitness, reverse=True)[:2]\n",
        "\n",
        "def crossover(p1, p2):\n",
        "    point = random.randint(1, GENES-1)\n",
        "    return p1[:point] + p2[point:], p2[:point] + p1[point:]\n",
        "\n",
        "def mutate(ind):\n",
        "    i = random.randint(0, GENES-1)\n",
        "    return ind[:i] + str(1 - int(ind[i])) + ind[i+1:]\n",
        "\n",
        "pop = [''.join(random.choice('01') for _ in range(GENES)) for _ in range(POP_SIZE)]\n",
        "\n",
        "for gen in range(1, GENERATIONS + 1):\n",
        "    parents = select(pop)\n",
        "    offspring = []\n",
        "    while len(offspring) < POP_SIZE:\n",
        "        c1, c2 = crossover(*parents)\n",
        "        offspring += [mutate(c1), mutate(c2)]\n",
        "    pop = offspring[:POP_SIZE]\n",
        "\n",
        "    if gen % 2 == 0:  # print every 2 generations\n",
        "        best = max(pop, key=fitness)\n",
        "        print(f\"Generation {gen}: Best individual = {best}, x = {int(best,2)}, fitness = {fitness(best)}\")\n",
        "\n",
        "best = max(pop, key=fitness)\n",
        "print(\"\\nFinal Best individual:\", best, \"| x =\", int(best, 2), \"| f(x) =\", fitness(best))\n"
      ],
      "metadata": {
        "colab": {
          "base_uri": "https://localhost:8080/"
        },
        "id": "FFdL9-IZeTow",
        "outputId": "488653ef-aef1-4411-a41e-1da752f33141"
      },
      "execution_count": null,
      "outputs": [
        {
          "output_type": "stream",
          "name": "stdout",
          "text": [
            "Generation 2: Best individual = 11101, x = 29, fitness = 841\n",
            "Generation 4: Best individual = 11110, x = 30, fitness = 900\n",
            "Generation 6: Best individual = 11110, x = 30, fitness = 900\n",
            "Generation 8: Best individual = 11100, x = 28, fitness = 784\n",
            "Generation 10: Best individual = 11111, x = 31, fitness = 961\n",
            "\n",
            "Final Best individual: 11111 | x = 31 | f(x) = 961\n"
          ]
        }
      ]
    },
    {
      "cell_type": "markdown",
      "source": [
        "# Parallel Algorithm and distributed systems (eg, Merge sort)"
      ],
      "metadata": {
        "id": "yl199eCPfMRV"
      }
    },
    {
      "cell_type": "code",
      "source": [
        "import concurrent.futures\n",
        "\n",
        "def merge(left, right):\n",
        "    result = []\n",
        "    i = j = 0\n",
        "    while i < len(left) and j < len(right):\n",
        "        if left[i] < right[j]:\n",
        "            result.append(left[i])\n",
        "            i += 1\n",
        "        else:\n",
        "            result.append(right[j])\n",
        "            j += 1\n",
        "    result.extend(left[i:])\n",
        "    result.extend(right[j:])\n",
        "    return result\n",
        "\n",
        "def parallel_merge_sort(arr):\n",
        "    if len(arr) <= 1:\n",
        "        return arr\n",
        "\n",
        "    mid = len(arr) // 2\n",
        "    with concurrent.futures.ThreadPoolExecutor() as executor:\n",
        "        left_future = executor.submit(parallel_merge_sort, arr[:mid])\n",
        "        right_future = executor.submit(parallel_merge_sort, arr[mid:])\n",
        "        left = left_future.result()\n",
        "        right = right_future.result()\n",
        "\n",
        "    return merge(left, right)\n",
        "\n",
        "# Example usage:\n",
        "arr = [38, 27, 43, 3, 9, 82, 10]\n",
        "sorted_arr = parallel_merge_sort(arr)\n",
        "print(\"Sorted array:\", sorted_arr)\n"
      ],
      "metadata": {
        "colab": {
          "base_uri": "https://localhost:8080/"
        },
        "id": "t65rmuxxefYX",
        "outputId": "c36f260b-06b5-4038-de7e-a1d8f4a9d6b2"
      },
      "execution_count": null,
      "outputs": [
        {
          "output_type": "stream",
          "name": "stdout",
          "text": [
            "Sorted array: [3, 9, 10, 27, 38, 43, 82]\n"
          ]
        }
      ]
    },
    {
      "cell_type": "markdown",
      "source": [
        "#ANT COLONY OPTIMIZATION"
      ],
      "metadata": {
        "id": "SbPJBaQQgOpQ"
      }
    },
    {
      "cell_type": "code",
      "source": [
        "import numpy as np\n",
        "\n",
        "dist = np.array([[np.inf,2,9],[1,np.inf,6],[15,7,np.inf]])\n",
        "pher = np.ones_like(dist)\n",
        "best_path, best_cost = None, float('inf')\n",
        "\n",
        "for _ in range(20):\n",
        "    path = [0]\n",
        "    nodes = {1,2}\n",
        "    while nodes:\n",
        "        cur = path[-1]\n",
        "        probs = [(pher[cur,j])*(1/dist[cur,j]) for j in nodes]\n",
        "        probs = np.array(probs)/sum(probs)\n",
        "        nxt = np.random.choice(list(nodes), p=probs)\n",
        "        path.append(nxt)\n",
        "        nodes.remove(nxt)\n",
        "    path.append(0)\n",
        "    cost = sum(dist[path[i],path[i+1]] for i in range(len(path)-1))\n",
        "    if cost < best_cost:\n",
        "        best_cost, best_path = cost, path\n",
        "    pher *= 0.5\n",
        "    for i in range(len(path)-1):\n",
        "        pher[path[i], path[i+1]] += 100/cost\n",
        "\n",
        "print(\"Best path:\", best_path)\n",
        "print(\"Min cost:\", best_cost)\n"
      ],
      "metadata": {
        "colab": {
          "base_uri": "https://localhost:8080/"
        },
        "id": "6k5DltwrzNOH",
        "outputId": "e65b9764-f510-46a8-e93d-78a383408c44"
      },
      "execution_count": null,
      "outputs": [
        {
          "output_type": "stream",
          "name": "stdout",
          "text": [
            "Best path: [0, np.int64(2), np.int64(1), 0]\n",
            "Min cost: 17.0\n"
          ]
        }
      ]
    },
    {
      "cell_type": "markdown",
      "source": [
        "#PSO"
      ],
      "metadata": {
        "id": "FoXkl6mBh3Go"
      }
    },
    {
      "cell_type": "code",
      "source": [
        "import random\n",
        "\n",
        "def f(x): return x*x\n",
        "\n",
        "pos = [random.uniform(-10,10) for _ in range(5)]\n",
        "vel = [0]*5\n",
        "pbest = pos[:]\n",
        "pbest_val = [f(x) for x in pos]\n",
        "gbest = min(pbest, key=f)\n",
        "\n",
        "for it in range(10):\n",
        "    for i in range(5):\n",
        "        if f(pos[i]) < pbest_val[i]:\n",
        "            pbest[i] = pos[i]\n",
        "            pbest_val[i] = f(pos[i])\n",
        "    gbest = min(pbest, key=f)\n",
        "    for i in range(5):\n",
        "        vel[i] = 0.5*vel[i] + 1.5*random.random()*(pbest[i]-pos[i]) + 1.5*random.random()*(gbest-pos[i])\n",
        "        pos[i] += vel[i]\n",
        "    print(f\"Iteration {it+1}: Best position = {gbest:.4f}, Best value = {f(gbest):.4f}\")\n",
        "\n",
        "print(\"\\nFinal Best position:\", gbest)\n",
        "print(\"Final Best value:\", f(gbest))\n"
      ],
      "metadata": {
        "colab": {
          "base_uri": "https://localhost:8080/"
        },
        "id": "iTt4I6heic7Z",
        "outputId": "b1d74f34-20e7-4464-e1fb-a17e8a6cb58d"
      },
      "execution_count": null,
      "outputs": [
        {
          "output_type": "stream",
          "name": "stdout",
          "text": [
            "Iteration 1: Best position = 3.4341, Best value = 11.7930\n",
            "Iteration 2: Best position = 3.4341, Best value = 11.7930\n",
            "Iteration 3: Best position = 0.1885, Best value = 0.0355\n",
            "Iteration 4: Best position = 0.1885, Best value = 0.0355\n",
            "Iteration 5: Best position = 0.1885, Best value = 0.0355\n",
            "Iteration 6: Best position = 0.1885, Best value = 0.0355\n",
            "Iteration 7: Best position = 0.1697, Best value = 0.0288\n",
            "Iteration 8: Best position = -0.1531, Best value = 0.0234\n",
            "Iteration 9: Best position = -0.1531, Best value = 0.0234\n",
            "Iteration 10: Best position = -0.0571, Best value = 0.0033\n",
            "\n",
            "Final Best position: -0.0570517745417457\n",
            "Final Best value: 0.0032549049783621832\n"
          ]
        }
      ]
    },
    {
      "cell_type": "markdown",
      "source": [
        "#grey wolf"
      ],
      "metadata": {
        "id": "B3G7AARli0xA"
      }
    },
    {
      "cell_type": "code",
      "source": [
        "import random\n",
        "\n",
        "def f(x): return x*x\n",
        "\n",
        "wolves = [random.uniform(-10, 10) for _ in range(5)]\n",
        "a = 2\n",
        "\n",
        "for iter in range(10):\n",
        "    wolves.sort(key=f)\n",
        "    alpha, beta, delta = wolves[0], wolves[1], wolves[2]\n",
        "    a -= 2 / 10\n",
        "    new_wolves = []\n",
        "    for w in wolves:\n",
        "        r1, r2 = random.random(), random.random()\n",
        "        A = 2 * a * r1 - a\n",
        "        C = 2 * r2\n",
        "        D_alpha = abs(C * alpha - w)\n",
        "        X1 = alpha - A * D_alpha\n",
        "\n",
        "        r1, r2 = random.random(), random.random()\n",
        "        A = 2 * a * r1 - a\n",
        "        C = 2 * r2\n",
        "        D_beta = abs(C * beta - w)\n",
        "        X2 = beta - A * D_beta\n",
        "\n",
        "        r1, r2 = random.random(), random.random()\n",
        "        A = 2 * a * r1 - a\n",
        "        C = 2 * r2\n",
        "        D_delta = abs(C * delta - w)\n",
        "        X3 = delta - A * D_delta\n",
        "\n",
        "        new_wolves.append((X1 + X2 + X3) / 3)\n",
        "    wolves = new_wolves\n",
        "    print(f\"Iter {iter+1}: Best = {alpha:.4f}, Value = {f(alpha):.4f}\")\n",
        "\n",
        "print(f\"Best solution: {alpha:.4f} with value: {f(alpha):.4f}\")\n"
      ],
      "metadata": {
        "colab": {
          "base_uri": "https://localhost:8080/"
        },
        "id": "4gkdEBIVii54",
        "outputId": "fe460560-85c8-48e1-f9fc-4eb7dd4869e3"
      },
      "execution_count": null,
      "outputs": [
        {
          "output_type": "stream",
          "name": "stdout",
          "text": [
            "Iter 1: Best = -4.9734, Value = 24.7351\n",
            "Iter 2: Best = -4.2512, Value = 18.0723\n",
            "Iter 3: Best = -2.2115, Value = 4.8907\n",
            "Iter 4: Best = -1.7171, Value = 2.9484\n",
            "Iter 5: Best = -1.8328, Value = 3.3590\n",
            "Iter 6: Best = -1.0477, Value = 1.0976\n",
            "Iter 7: Best = -0.9917, Value = 0.9835\n",
            "Iter 8: Best = -0.8959, Value = 0.8026\n",
            "Iter 9: Best = -1.0080, Value = 1.0160\n",
            "Iter 10: Best = -0.9973, Value = 0.9946\n",
            "Best solution: -0.9973 with value: 0.9946\n"
          ]
        }
      ]
    },
    {
      "cell_type": "markdown",
      "source": [
        "#Crisp Partitions for real-life iris dataset"
      ],
      "metadata": {
        "id": "Omnf2oUhj0vb"
      }
    },
    {
      "cell_type": "code",
      "source": [
        "from sklearn.datasets import load_iris\n",
        "from sklearn.cluster import KMeans\n",
        "import numpy as np\n",
        "\n",
        "# Load Iris dataset\n",
        "iris = load_iris()\n",
        "X = iris.data  # features\n",
        "\n",
        "# Number of clusters (species)\n",
        "k = 3\n",
        "\n",
        "# Apply KMeans clustering\n",
        "kmeans = KMeans(n_clusters=k, random_state=0)\n",
        "kmeans.fit(X)\n",
        "\n",
        "# Cluster assignments (crisp partition)\n",
        "labels = kmeans.labels_\n",
        "\n",
        "# Display results\n",
        "for i in range(k):\n",
        "    cluster_points = X[labels == i]\n",
        "    print(f\"Cluster {i+1} has {len(cluster_points)} points.\")\n",
        "    print(cluster_points[:3], \"...\")  # print first 3 points in cluster\n",
        "\n",
        "# Optional: Show cluster centers\n",
        "print(\"\\nCluster Centers:\")\n",
        "print(kmeans.cluster_centers_)\n"
      ],
      "metadata": {
        "colab": {
          "base_uri": "https://localhost:8080/"
        },
        "id": "nsEzKgC3ba2v",
        "outputId": "174dca3a-ec53-4524-8bd4-bd73323ec40c"
      },
      "execution_count": null,
      "outputs": [
        {
          "output_type": "stream",
          "name": "stdout",
          "text": [
            "Cluster 1 has 61 points.\n",
            "[[6.4 3.2 4.5 1.5]\n",
            " [5.5 2.3 4.  1.3]\n",
            " [6.5 2.8 4.6 1.5]] ...\n",
            "Cluster 2 has 50 points.\n",
            "[[5.1 3.5 1.4 0.2]\n",
            " [4.9 3.  1.4 0.2]\n",
            " [4.7 3.2 1.3 0.2]] ...\n",
            "Cluster 3 has 39 points.\n",
            "[[7.  3.2 4.7 1.4]\n",
            " [6.9 3.1 4.9 1.5]\n",
            " [6.7 3.  5.  1.7]] ...\n",
            "\n",
            "Cluster Centers:\n",
            "[[5.88360656 2.74098361 4.38852459 1.43442623]\n",
            " [5.006      3.428      1.462      0.246     ]\n",
            " [6.85384615 3.07692308 5.71538462 2.05384615]]\n"
          ]
        }
      ]
    },
    {
      "cell_type": "markdown",
      "source": [
        "#perceptron hebb's rule"
      ],
      "metadata": {
        "id": "OxsCmK30j743"
      }
    },
    {
      "cell_type": "code",
      "source": [
        "import numpy as np\n",
        "\n",
        "# Inputs (4 samples, 2 features)\n",
        "X = np.array([[0,0], [0,1], [1,0], [1,1]])\n",
        "# Targets (AND logic)\n",
        "y = np.array([0, 0, 0, 1])\n",
        "\n",
        "# Initialize weights and bias\n",
        "w = np.zeros(2)\n",
        "b = 0\n",
        "\n",
        "def activation(x):\n",
        "    return 1 if x > 0 else 0\n",
        "\n",
        "epochs = 5\n",
        "\n",
        "for epoch in range(epochs):\n",
        "    for xi, target in zip(X, y):\n",
        "        output = activation(np.dot(w, xi) + b)\n",
        "        error = target - output\n",
        "        # Hebb's Rule update only if target is 1 (reinforcement)\n",
        "        if target == 1:\n",
        "            w += xi\n",
        "            b += 1\n",
        "    print(f\"Epoch {epoch+1}: Weights = {w}, Bias = {b}\")\n",
        "\n",
        "print(\"\\nFinal Weights:\", w)\n",
        "print(\"Final Bias:\", b)\n"
      ],
      "metadata": {
        "colab": {
          "base_uri": "https://localhost:8080/"
        },
        "id": "k9ZdplMmjzw-",
        "outputId": "c95d2150-a606-4b6c-8e32-d71c6275003e"
      },
      "execution_count": null,
      "outputs": [
        {
          "output_type": "stream",
          "name": "stdout",
          "text": [
            "Epoch 1: Weights = [1. 1.], Bias = 1\n",
            "Epoch 2: Weights = [2. 2.], Bias = 2\n",
            "Epoch 3: Weights = [3. 3.], Bias = 3\n",
            "Epoch 4: Weights = [4. 4.], Bias = 4\n",
            "Epoch 5: Weights = [5. 5.], Bias = 5\n",
            "\n",
            "Final Weights: [5. 5.]\n",
            "Final Bias: 5\n"
          ]
        }
      ]
    },
    {
      "cell_type": "code",
      "source": [
        "#delta rule\n",
        "import numpy as np\n",
        "\n",
        "# Inputs (4 samples, 2 features)\n",
        "X = np.array([[0,0], [0,1], [1,0], [1,1]])\n",
        "# Targets (AND logic)\n",
        "y = np.array([0, 0, 0, 1])\n",
        "\n",
        "# Initialize weights and bias\n",
        "w = np.zeros(2)\n",
        "b = 0\n",
        "lr = 0.1  # learning rate\n",
        "\n",
        "def activation(x):\n",
        "    # Linear output (no threshold, as delta rule works with continuous values)\n",
        "    return x\n",
        "\n",
        "epochs = 10\n",
        "\n",
        "for epoch in range(epochs):\n",
        "    for xi, target in zip(X, y):\n",
        "        output = activation(np.dot(w, xi) + b)\n",
        "        error = target - output\n",
        "        w += lr * error * xi\n",
        "        b += lr * error\n",
        "    print(f\"Epoch {epoch+1}: Weights = {w}, Bias = {b}\")\n",
        "\n",
        "print(\"\\nFinal Weights:\", w)\n",
        "print(\"Final Bias:\", b)\n"
      ],
      "metadata": {
        "colab": {
          "base_uri": "https://localhost:8080/"
        },
        "id": "AS0ePCqGmE3N",
        "outputId": "62cdf798-dac9-46ff-ce75-c0a2b7e20781"
      },
      "execution_count": null,
      "outputs": [
        {
          "output_type": "stream",
          "name": "stdout",
          "text": [
            "Epoch 1: Weights = [0.1 0.1], Bias = 0.1\n",
            "Epoch 2: Weights = [0.16112 0.15922], Bias = 0.13212000000000002\n",
            "Epoch 3: Weights = [0.20258054 0.19808926], Bias = 0.13255574400000003\n",
            "Epoch 4: Weights = [0.23371999 0.22650395], Bias = 0.1187006755328\n",
            "Epoch 5: Weights = [0.25910386 0.24927607], Bias = 0.09888101709940736\n",
            "Epoch 6: Weights = [0.28099036 0.26876266], Bias = 0.07705252213559988\n",
            "Epoch 7: Weights = [0.3005204  0.28613437], Bias = 0.05506631415784157\n",
            "Epoch 8: Weights = [0.31829198 0.30198762], Bias = 0.0337618583471239\n",
            "Epoch 9: Weights = [0.33463769 0.31664003], Bias = 0.013494056213774787\n",
            "Epoch 10: Weights = [0.34975884 0.3302731 ], Bias = -0.005612672050640838\n",
            "\n",
            "Final Weights: [0.34975884 0.3302731 ]\n",
            "Final Bias: -0.005612672050640838\n"
          ]
        }
      ]
    },
    {
      "cell_type": "markdown",
      "source": [
        "#ensemble"
      ],
      "metadata": {
        "id": "d5LbdosUk-Ci"
      }
    },
    {
      "cell_type": "code",
      "source": [
        "from sklearn.datasets import load_iris\n",
        "from sklearn.model_selection import train_test_split\n",
        "from sklearn.ensemble import BaggingClassifier\n",
        "from sklearn.tree import DecisionTreeClassifier\n",
        "\n",
        "# Load data\n",
        "X, y = load_iris(return_X_y=True)\n",
        "X_train, X_test, y_train, y_test = train_test_split(X, y, test_size=0.3, random_state=42)\n",
        "\n",
        "# Bagging with random features and shallow trees\n",
        "bag = BaggingClassifier(\n",
        "    estimator=DecisionTreeClassifier(max_depth=1),\n",
        "    n_estimators=5,\n",
        "    max_samples=0.5,\n",
        "    max_features=0.5,\n",
        "    random_state=42\n",
        ")\n",
        "\n",
        "# Train\n",
        "bag.fit(X_train, y_train)\n",
        "\n",
        "# Test sample\n",
        "sample = X_test[0].reshape(1, -1)\n",
        "print(\"True label:\", y_test[0])\n",
        "print(\"Individual Estimator Predictions:\")\n",
        "for i, est in enumerate(bag.estimators_):\n",
        "    feats = bag.estimators_features_[i]\n",
        "    print(f\"Model {i+1}: {est.predict(sample[:, feats])[0]}\")\n",
        "\n",
        "# Bagging prediction\n",
        "print(\"Bagging Final Prediction:\", bag.predict(sample)[0])\n"
      ],
      "metadata": {
        "colab": {
          "base_uri": "https://localhost:8080/"
        },
        "id": "qQw8pUTWrBrK",
        "outputId": "e1ca3136-9cc6-48f8-b89a-e007f9783add"
      },
      "execution_count": null,
      "outputs": [
        {
          "output_type": "stream",
          "name": "stdout",
          "text": [
            "True label: 1\n",
            "Individual Estimator Predictions:\n",
            "Model 1: 1\n",
            "Model 2: 1\n",
            "Model 3: 1\n",
            "Model 4: 1\n",
            "Model 5: 1\n",
            "Bagging Final Prediction: 1\n"
          ]
        }
      ]
    },
    {
      "cell_type": "code",
      "source": [],
      "metadata": {
        "id": "LWbzrEAQzuas"
      },
      "execution_count": null,
      "outputs": []
    }
  ]
}
